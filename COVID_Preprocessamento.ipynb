{
 "cells": [
  {
   "cell_type": "code",
   "execution_count": 4,
   "metadata": {},
   "outputs": [],
   "source": [
    "# TCC da Pós-graduação Lato Sensu em Ciência de Dados e Big Data\n",
    "## Entidade promotora: PUC Minas Virtual\n",
    "### Trabalho de Conclusão de Curso apresentado ao Curso de Especialização em Ciência de Dados e Big Data como requisito parcial à obtenção do título de especialista.\n",
    "### Projeto: Preditores de óbitos por COVID-19: O aprendizado de máquina como instrumento auxiliar na definição de políticas públicas\n",
    "\n",
    "### Aluno: Breno Marques Barreto\n",
    "\n",
    "# Considerações importantes sobre a utilização dos modelos salvos:\n",
    "# Deve-se conferir se a versão do Python que irá utilizar é a mesma usada neste projeto.\n",
    "# Aconselha-se utilizar para deserializar o modelo salvo:\n",
    "#   1 - A mesma versão do Python. \n",
    "#   2 - As mesmas versãoes das bibliotecas usadas no projeto. \n",
    "# As orientações não são apenas para as versões da NumPy e da scikit-learn."
   ]
  },
  {
   "cell_type": "code",
   "execution_count": 5,
   "id": "fdec9db2",
   "metadata": {},
   "outputs": [],
   "source": [
    "#Carga das funçoes criadas para o projeto\n",
    "%run ./funcoes.ipynb"
   ]
  },
  {
   "source": [
    "# Carga dos dados"
   ],
   "cell_type": "markdown",
   "metadata": {}
  },
  {
   "cell_type": "code",
   "execution_count": 6,
   "metadata": {},
   "outputs": [],
   "source": [
    "geoses_df = load_df('nacional.csv',\",\",None,{'v0002_codigo_do_municipio':int, 'GeoSES':conv})  #carrega os dados da tabela auxiliar."
   ]
  },
  {
   "cell_type": "code",
   "execution_count": 7,
   "metadata": {},
   "outputs": [
    {
     "output_type": "stream",
     "name": "stdout",
     "text": [
      "Núm. linhas e colunas: (5565, 19)\n"
     ]
    }
   ],
   "source": [
    "print('Núm. linhas e colunas:',geoses_df.shape) #exibe a quantidade de linhas e colunas do dataframe"
   ]
  },
  {
   "source": [
    "geoses_df.head(3)"
   ],
   "cell_type": "code",
   "metadata": {},
   "execution_count": 8,
   "outputs": [
    {
     "output_type": "execute_result",
     "data": {
      "text/plain": [
       "   v0002_codigo_do_municipio    GeoSES PRIMEIRA__VAR SEGUNDA__VAR  \\\n",
       "0                    1200013 -0.626435     P_POBREZA  MED_RENDDOM   \n",
       "1                    1200054 -0.681931     P_POBREZA  MED_RENDDOM   \n",
       "2                    1200104 -0.610734     P_POBREZA  MED_RENDDOM   \n",
       "\n",
       "  TERCEIRA__VAR   educação  mobilidade    pobreza  privacao_material  \\\n",
       "0    P_SO_CARRO  75.608520           0  65.207468          10.377063   \n",
       "1    P_SO_CARRO  72.888488           0  66.692311           7.297633   \n",
       "2    P_SO_CARRO  73.487393           0  62.651590          12.255028   \n",
       "\n",
       "    riqueza        renda  segregacao educação__VAR  mobilidade__VAR  \\\n",
       "0  0.000000  1097.845989    0.048161    P_SEM_INST                0   \n",
       "1  0.182434  1098.290113    0.042949    P_SEM_INST                0   \n",
       "2  0.205383  1236.792394    0.051404    P_SEM_INST                0   \n",
       "\n",
       "  pobreza__VAR privacao_material__VAR   riqueza__VAR   renda__VAR  \\\n",
       "0    P_POBREZA             P_SO_CARRO  P_BANH4OUMAIS  MED_RENDDOM   \n",
       "1    P_POBREZA             P_SO_CARRO  P_BANH4OUMAIS  MED_RENDDOM   \n",
       "2    P_POBREZA             P_SO_CARRO  P_BANH4OUMAIS  MED_RENDDOM   \n",
       "\n",
       "   segregacao__VAR  \n",
       "0  ICE_renda_preto  \n",
       "1  ICE_renda_preto  \n",
       "2  ICE_renda_preto  "
      ],
      "text/html": "<div>\n<style scoped>\n    .dataframe tbody tr th:only-of-type {\n        vertical-align: middle;\n    }\n\n    .dataframe tbody tr th {\n        vertical-align: top;\n    }\n\n    .dataframe thead th {\n        text-align: right;\n    }\n</style>\n<table border=\"1\" class=\"dataframe\">\n  <thead>\n    <tr style=\"text-align: right;\">\n      <th></th>\n      <th>v0002_codigo_do_municipio</th>\n      <th>GeoSES</th>\n      <th>PRIMEIRA__VAR</th>\n      <th>SEGUNDA__VAR</th>\n      <th>TERCEIRA__VAR</th>\n      <th>educação</th>\n      <th>mobilidade</th>\n      <th>pobreza</th>\n      <th>privacao_material</th>\n      <th>riqueza</th>\n      <th>renda</th>\n      <th>segregacao</th>\n      <th>educação__VAR</th>\n      <th>mobilidade__VAR</th>\n      <th>pobreza__VAR</th>\n      <th>privacao_material__VAR</th>\n      <th>riqueza__VAR</th>\n      <th>renda__VAR</th>\n      <th>segregacao__VAR</th>\n    </tr>\n  </thead>\n  <tbody>\n    <tr>\n      <th>0</th>\n      <td>1200013</td>\n      <td>-0.626435</td>\n      <td>P_POBREZA</td>\n      <td>MED_RENDDOM</td>\n      <td>P_SO_CARRO</td>\n      <td>75.608520</td>\n      <td>0</td>\n      <td>65.207468</td>\n      <td>10.377063</td>\n      <td>0.000000</td>\n      <td>1097.845989</td>\n      <td>0.048161</td>\n      <td>P_SEM_INST</td>\n      <td>0</td>\n      <td>P_POBREZA</td>\n      <td>P_SO_CARRO</td>\n      <td>P_BANH4OUMAIS</td>\n      <td>MED_RENDDOM</td>\n      <td>ICE_renda_preto</td>\n    </tr>\n    <tr>\n      <th>1</th>\n      <td>1200054</td>\n      <td>-0.681931</td>\n      <td>P_POBREZA</td>\n      <td>MED_RENDDOM</td>\n      <td>P_SO_CARRO</td>\n      <td>72.888488</td>\n      <td>0</td>\n      <td>66.692311</td>\n      <td>7.297633</td>\n      <td>0.182434</td>\n      <td>1098.290113</td>\n      <td>0.042949</td>\n      <td>P_SEM_INST</td>\n      <td>0</td>\n      <td>P_POBREZA</td>\n      <td>P_SO_CARRO</td>\n      <td>P_BANH4OUMAIS</td>\n      <td>MED_RENDDOM</td>\n      <td>ICE_renda_preto</td>\n    </tr>\n    <tr>\n      <th>2</th>\n      <td>1200104</td>\n      <td>-0.610734</td>\n      <td>P_POBREZA</td>\n      <td>MED_RENDDOM</td>\n      <td>P_SO_CARRO</td>\n      <td>73.487393</td>\n      <td>0</td>\n      <td>62.651590</td>\n      <td>12.255028</td>\n      <td>0.205383</td>\n      <td>1236.792394</td>\n      <td>0.051404</td>\n      <td>P_SEM_INST</td>\n      <td>0</td>\n      <td>P_POBREZA</td>\n      <td>P_SO_CARRO</td>\n      <td>P_BANH4OUMAIS</td>\n      <td>MED_RENDDOM</td>\n      <td>ICE_renda_preto</td>\n    </tr>\n  </tbody>\n</table>\n</div>"
     },
     "metadata": {},
     "execution_count": 8
    }
   ]
  },
  {
   "cell_type": "code",
   "execution_count": 9,
   "metadata": {},
   "outputs": [
    {
     "output_type": "execute_result",
     "data": {
      "text/plain": [
       "(5565,)"
      ]
     },
     "metadata": {},
     "execution_count": 9
    }
   ],
   "source": [
    "# Total de registros do dataframe geoses_df  \n",
    "contador_df = geoses_df['v0002_codigo_do_municipio'].value_counts()\n",
    "contador_df.shape"
   ]
  },
  {
   "cell_type": "code",
   "execution_count": 10,
   "metadata": {},
   "outputs": [],
   "source": [
    "# Variável com o nome do arquivo contendo os dados do SIVEP\n",
    "arquivo_base = \"INFLUD21-29-03-2021.csv\"  "
   ]
  },
  {
   "cell_type": "code",
   "execution_count": 11,
   "metadata": {},
   "outputs": [
    {
     "output_type": "stream",
     "name": "stdout",
     "text": [
      "Núm. linhas e colunas: (421368, 43)\n"
     ]
    }
   ],
   "source": [
    "# Serão carregadas as variáveis com dados considerados preliminarmente relevantes \n",
    "colunas_relevantes = ['EVOLUCAO','HOSPITAL','UTI','SUPORT_VEN','NU_IDADE_N','CS_RACA','FEBRE','TOSSE','GARGANTA','DISPNEIA','DESC_RESP','SATURACAO', 'DIARREIA','VOMITO','OUTRO_SIN','PUERPERA','CARDIOPATI','HEMATOLOGI','SIND_DOWN','HEPATICA','ASMA','DIABETES','NEUROLOGIC','PNEUMOPATI','IMUNODEPRE','RENAL','OBESIDADE','OUT_MORBI','VACINA','CLASSI_FIN','PCR_SARS2','DOR_ABD','FADIGA','PERD_OLFT','PERD_PALA','TOMO_RES','AN_SARS2','RES_IGM','RES_IGA','PCR_SARS2','TP_AM_SOR', 'CS_SEXO','CO_MUN_NOT','POS_AN_OUT','CO_MUN_NOT']\n",
    "\n",
    "arquivo_base = \"INFLUD21-29-03-2021.csv\"\n",
    "covid_df = load_df(arquivo_base,\";\",colunas_relevantes,None) #carrega os dados do arquivo csv.\n",
    "print('Núm. linhas e colunas:',covid_df.shape) #exibe a quantidade de linhas e colunas do dataframe"
   ]
  },
  {
   "cell_type": "code",
   "execution_count": 12,
   "metadata": {},
   "outputs": [
    {
     "output_type": "execute_result",
     "data": {
      "text/plain": [
       "   CO_MUN_NOT CS_SEXO  NU_IDADE_N  CS_RACA  FEBRE  TOSSE  GARGANTA  DISPNEIA  \\\n",
       "0      350950       F          84        1    1.0    1.0       2.0       2.0   \n",
       "1      354990       M          65        4    2.0    2.0       2.0       1.0   \n",
       "2      292740       F          46        9    1.0    1.0       2.0       1.0   \n",
       "\n",
       "   DESC_RESP  SATURACAO  ...  DOR_ABD  FADIGA  PERD_OLFT  PERD_PALA  TOMO_RES  \\\n",
       "0        1.0        1.0  ...      2.0     2.0        2.0        2.0       6.0   \n",
       "1        1.0        1.0  ...      2.0     2.0        2.0        2.0       NaN   \n",
       "2        1.0        2.0  ...      2.0     2.0        2.0        2.0       NaN   \n",
       "\n",
       "   POS_AN_OUT  AN_SARS2  TP_AM_SOR  RES_IGM  RES_IGA  \n",
       "0         NaN       NaN        NaN      NaN      NaN  \n",
       "1         NaN       NaN        NaN      NaN      NaN  \n",
       "2         NaN       NaN        NaN      NaN      NaN  \n",
       "\n",
       "[3 rows x 43 columns]"
      ],
      "text/html": "<div>\n<style scoped>\n    .dataframe tbody tr th:only-of-type {\n        vertical-align: middle;\n    }\n\n    .dataframe tbody tr th {\n        vertical-align: top;\n    }\n\n    .dataframe thead th {\n        text-align: right;\n    }\n</style>\n<table border=\"1\" class=\"dataframe\">\n  <thead>\n    <tr style=\"text-align: right;\">\n      <th></th>\n      <th>CO_MUN_NOT</th>\n      <th>CS_SEXO</th>\n      <th>NU_IDADE_N</th>\n      <th>CS_RACA</th>\n      <th>FEBRE</th>\n      <th>TOSSE</th>\n      <th>GARGANTA</th>\n      <th>DISPNEIA</th>\n      <th>DESC_RESP</th>\n      <th>SATURACAO</th>\n      <th>...</th>\n      <th>DOR_ABD</th>\n      <th>FADIGA</th>\n      <th>PERD_OLFT</th>\n      <th>PERD_PALA</th>\n      <th>TOMO_RES</th>\n      <th>POS_AN_OUT</th>\n      <th>AN_SARS2</th>\n      <th>TP_AM_SOR</th>\n      <th>RES_IGM</th>\n      <th>RES_IGA</th>\n    </tr>\n  </thead>\n  <tbody>\n    <tr>\n      <th>0</th>\n      <td>350950</td>\n      <td>F</td>\n      <td>84</td>\n      <td>1</td>\n      <td>1.0</td>\n      <td>1.0</td>\n      <td>2.0</td>\n      <td>2.0</td>\n      <td>1.0</td>\n      <td>1.0</td>\n      <td>...</td>\n      <td>2.0</td>\n      <td>2.0</td>\n      <td>2.0</td>\n      <td>2.0</td>\n      <td>6.0</td>\n      <td>NaN</td>\n      <td>NaN</td>\n      <td>NaN</td>\n      <td>NaN</td>\n      <td>NaN</td>\n    </tr>\n    <tr>\n      <th>1</th>\n      <td>354990</td>\n      <td>M</td>\n      <td>65</td>\n      <td>4</td>\n      <td>2.0</td>\n      <td>2.0</td>\n      <td>2.0</td>\n      <td>1.0</td>\n      <td>1.0</td>\n      <td>1.0</td>\n      <td>...</td>\n      <td>2.0</td>\n      <td>2.0</td>\n      <td>2.0</td>\n      <td>2.0</td>\n      <td>NaN</td>\n      <td>NaN</td>\n      <td>NaN</td>\n      <td>NaN</td>\n      <td>NaN</td>\n      <td>NaN</td>\n    </tr>\n    <tr>\n      <th>2</th>\n      <td>292740</td>\n      <td>F</td>\n      <td>46</td>\n      <td>9</td>\n      <td>1.0</td>\n      <td>1.0</td>\n      <td>2.0</td>\n      <td>1.0</td>\n      <td>1.0</td>\n      <td>2.0</td>\n      <td>...</td>\n      <td>2.0</td>\n      <td>2.0</td>\n      <td>2.0</td>\n      <td>2.0</td>\n      <td>NaN</td>\n      <td>NaN</td>\n      <td>NaN</td>\n      <td>NaN</td>\n      <td>NaN</td>\n      <td>NaN</td>\n    </tr>\n  </tbody>\n</table>\n<p>3 rows × 43 columns</p>\n</div>"
     },
     "metadata": {},
     "execution_count": 12
    }
   ],
   "source": [
    "# Exibe os primeiros registros do arquivo carregado\n",
    "covid_df.head(3)"
   ]
  },
  {
   "source": [
    "# Processamento/Tratamento de dados"
   ],
   "cell_type": "markdown",
   "metadata": {}
  },
  {
   "cell_type": "code",
   "execution_count": 13,
   "metadata": {},
   "outputs": [
    {
     "output_type": "execute_result",
     "data": {
      "text/plain": [
       "        CLASSI_FIN  RES_IGM\n",
       "418            NaN      1.0\n",
       "498            NaN      1.0\n",
       "743            NaN      1.0\n",
       "846            NaN      1.0\n",
       "1914           NaN      1.0\n",
       "...            ...      ...\n",
       "420783         NaN      1.0\n",
       "420971         NaN      1.0\n",
       "420987         NaN      1.0\n",
       "421125         NaN      1.0\n",
       "421358         NaN      1.0\n",
       "\n",
       "[1459 rows x 2 columns]"
      ],
      "text/html": "<div>\n<style scoped>\n    .dataframe tbody tr th:only-of-type {\n        vertical-align: middle;\n    }\n\n    .dataframe tbody tr th {\n        vertical-align: top;\n    }\n\n    .dataframe thead th {\n        text-align: right;\n    }\n</style>\n<table border=\"1\" class=\"dataframe\">\n  <thead>\n    <tr style=\"text-align: right;\">\n      <th></th>\n      <th>CLASSI_FIN</th>\n      <th>RES_IGM</th>\n    </tr>\n  </thead>\n  <tbody>\n    <tr>\n      <th>418</th>\n      <td>NaN</td>\n      <td>1.0</td>\n    </tr>\n    <tr>\n      <th>498</th>\n      <td>NaN</td>\n      <td>1.0</td>\n    </tr>\n    <tr>\n      <th>743</th>\n      <td>NaN</td>\n      <td>1.0</td>\n    </tr>\n    <tr>\n      <th>846</th>\n      <td>NaN</td>\n      <td>1.0</td>\n    </tr>\n    <tr>\n      <th>1914</th>\n      <td>NaN</td>\n      <td>1.0</td>\n    </tr>\n    <tr>\n      <th>...</th>\n      <td>...</td>\n      <td>...</td>\n    </tr>\n    <tr>\n      <th>420783</th>\n      <td>NaN</td>\n      <td>1.0</td>\n    </tr>\n    <tr>\n      <th>420971</th>\n      <td>NaN</td>\n      <td>1.0</td>\n    </tr>\n    <tr>\n      <th>420987</th>\n      <td>NaN</td>\n      <td>1.0</td>\n    </tr>\n    <tr>\n      <th>421125</th>\n      <td>NaN</td>\n      <td>1.0</td>\n    </tr>\n    <tr>\n      <th>421358</th>\n      <td>NaN</td>\n      <td>1.0</td>\n    </tr>\n  </tbody>\n</table>\n<p>1459 rows × 2 columns</p>\n</div>"
     },
     "metadata": {},
     "execution_count": 13
    }
   ],
   "source": [
    "# Registros com 'CLASSI_FIN' vazio e 'RES_IGM' \"positivo\".\n",
    "index_incoerencia1 = covid_df[(covid_df['CLASSI_FIN'].isnull()) & (covid_df['RES_IGM']==1.0)].index\n",
    "covid_df.loc[index_incoerencia1,['CLASSI_FIN','RES_IGM']]"
   ]
  },
  {
   "cell_type": "code",
   "execution_count": 14,
   "metadata": {},
   "outputs": [
    {
     "output_type": "execute_result",
     "data": {
      "text/plain": [
       "        CLASSI_FIN  EVOLUCAO\n",
       "4              NaN       NaN\n",
       "10             NaN       NaN\n",
       "11             NaN       NaN\n",
       "20             NaN       NaN\n",
       "27             NaN       NaN\n",
       "...            ...       ...\n",
       "421362         NaN       NaN\n",
       "421363         NaN       NaN\n",
       "421365         NaN       NaN\n",
       "421366         NaN       NaN\n",
       "421367         NaN       NaN\n",
       "\n",
       "[86274 rows x 2 columns]"
      ],
      "text/html": "<div>\n<style scoped>\n    .dataframe tbody tr th:only-of-type {\n        vertical-align: middle;\n    }\n\n    .dataframe tbody tr th {\n        vertical-align: top;\n    }\n\n    .dataframe thead th {\n        text-align: right;\n    }\n</style>\n<table border=\"1\" class=\"dataframe\">\n  <thead>\n    <tr style=\"text-align: right;\">\n      <th></th>\n      <th>CLASSI_FIN</th>\n      <th>EVOLUCAO</th>\n    </tr>\n  </thead>\n  <tbody>\n    <tr>\n      <th>4</th>\n      <td>NaN</td>\n      <td>NaN</td>\n    </tr>\n    <tr>\n      <th>10</th>\n      <td>NaN</td>\n      <td>NaN</td>\n    </tr>\n    <tr>\n      <th>11</th>\n      <td>NaN</td>\n      <td>NaN</td>\n    </tr>\n    <tr>\n      <th>20</th>\n      <td>NaN</td>\n      <td>NaN</td>\n    </tr>\n    <tr>\n      <th>27</th>\n      <td>NaN</td>\n      <td>NaN</td>\n    </tr>\n    <tr>\n      <th>...</th>\n      <td>...</td>\n      <td>...</td>\n    </tr>\n    <tr>\n      <th>421362</th>\n      <td>NaN</td>\n      <td>NaN</td>\n    </tr>\n    <tr>\n      <th>421363</th>\n      <td>NaN</td>\n      <td>NaN</td>\n    </tr>\n    <tr>\n      <th>421365</th>\n      <td>NaN</td>\n      <td>NaN</td>\n    </tr>\n    <tr>\n      <th>421366</th>\n      <td>NaN</td>\n      <td>NaN</td>\n    </tr>\n    <tr>\n      <th>421367</th>\n      <td>NaN</td>\n      <td>NaN</td>\n    </tr>\n  </tbody>\n</table>\n<p>86274 rows × 2 columns</p>\n</div>"
     },
     "metadata": {},
     "execution_count": 14
    }
   ],
   "source": [
    "# Registros com as colunas 'CLASSI_FIN' e 'EVOLUCAO' vazias.\n",
    "incoerencia_df = covid_df[(covid_df['CLASSI_FIN'].isnull()) & (covid_df['EVOLUCAO'].isnull())].index\n",
    "covid_df.loc[incoerencia_df,['CLASSI_FIN','EVOLUCAO']]   "
   ]
  },
  {
   "cell_type": "code",
   "execution_count": 15,
   "metadata": {},
   "outputs": [
    {
     "output_type": "execute_result",
     "data": {
      "text/plain": [
       "(166418, 43)"
      ]
     },
     "metadata": {},
     "execution_count": 15
    }
   ],
   "source": [
    "# Total de registros como campo 'EVOLUCAO' não preenchido.\n",
    "df_rows_missing_evolucao = covid_df[covid_df['EVOLUCAO'].isnull()]\n",
    "df_rows_missing_evolucao.shape"
   ]
  },
  {
   "cell_type": "code",
   "execution_count": 16,
   "metadata": {},
   "outputs": [],
   "source": [
    "    # Como a variável \"EVOLUCAO\" impacta diretamente na formação da variável alvo, decidiu-se apagar as linhas com \"EVOLUCAO\" não preenchido.\n",
    "    df_rows_missing_evolucao = covid_df[covid_df['EVOLUCAO'].isnull()] # passo 1\n",
    "    covid_df = covid_df.drop(df_rows_missing_evolucao.index, axis=0) # passo 2"
   ]
  },
  {
   "cell_type": "code",
   "execution_count": 17,
   "metadata": {},
   "outputs": [
    {
     "output_type": "stream",
     "name": "stdout",
     "text": [
      "Quantidade de registros com 'CLASSI_FIN' vazio e 'RES_IGM' positivo (55,)\nQuantidade de registros com 'CLASSI_FIN' vazio e 'RES_IGA' positivo (6,)\nQuantidade de registros com 'CLASSI_FIN' vazio e 'PCR_SARS2' positivo (0,)\nQuantidade de registros com 'CLASSI_FIN' vazio e 'AN_SARS2' positivo (0,)\n"
     ]
    }
   ],
   "source": [
    "    # Verificação de possíveis correções de classificações finais ausentes. \n",
    "    index_incoerencia1 = covid_df[(covid_df['CLASSI_FIN'].isnull()) & (covid_df['RES_IGM']==1.0)].index\n",
    "    print(\"Quantidade de registros com 'CLASSI_FIN' vazio e 'RES_IGM' positivo\",\n",
    "     covid_df.loc[index_incoerencia1,'CLASSI_FIN'].shape)\n",
    "    index_incoerencia2 = covid_df[(covid_df['CLASSI_FIN'].isnull()) & (covid_df['RES_IGA']==1.0)].index\n",
    "    print(\"Quantidade de registros com 'CLASSI_FIN' vazio e 'RES_IGA' positivo\",\n",
    "     covid_df.loc[index_incoerencia2,'CLASSI_FIN'].shape)    \n",
    "    index_incoerencia3 = covid_df[(covid_df['CLASSI_FIN'].isnull()) & (covid_df['PCR_SARS2']==1.0)].index\n",
    "    print(\"Quantidade de registros com 'CLASSI_FIN' vazio e 'PCR_SARS2' positivo\",\n",
    "     covid_df.loc[index_incoerencia3,'CLASSI_FIN'].shape)\n",
    "    index_incoerencia4 = covid_df[(covid_df['CLASSI_FIN'].isnull()) & (covid_df['AN_SARS2']==1.0)].index\n",
    "    print(\"Quantidade de registros com 'CLASSI_FIN' vazio e 'AN_SARS2' positivo\",\n",
    "     covid_df.loc[index_incoerencia3,'CLASSI_FIN'].shape)"
   ]
  },
  {
   "cell_type": "code",
   "execution_count": 18,
   "metadata": {},
   "outputs": [
    {
     "output_type": "execute_result",
     "data": {
      "text/plain": [
       "2.0    1744\n",
       "1.0    1453\n",
       "9.0     111\n",
       "3.0      59\n",
       "Name: EVOLUCAO, dtype: int64"
      ]
     },
     "metadata": {},
     "execution_count": 18
    }
   ],
   "source": [
    "    # Verificação dos registros com classificação final nula e evoluções preenchidas.\n",
    "    incoerencia_df = covid_df[(covid_df['CLASSI_FIN'].isnull()) & (covid_df['EVOLUCAO']>0.0)]\n",
    "    incoerencia_df['EVOLUCAO'].value_counts(dropna=False)"
   ]
  },
  {
   "cell_type": "code",
   "execution_count": 19,
   "metadata": {},
   "outputs": [],
   "source": [
    "condicao = [covid_df['CS_SEXO'] == 'F', covid_df['CS_SEXO'] == 'M', covid_df['CS_SEXO'] == 'I']\n",
    "resultados = [covid_df['PUERPERA'], 2, 9]\n",
    "# Se for mulher, mantém o valor do campo \"PUERPERA\", se homem atribui 2 (\"NAO\"),\n",
    "# caso contrário, 9 (\"IGNORADO\").\n",
    "# Se ainda houver NAN, será necessário tratar mulheres cujo estado não foi preenchido.\n",
    "covid_df['PUERPERA'] = np.select(condicao, resultados, 9)"
   ]
  },
  {
   "cell_type": "code",
   "execution_count": 20,
   "metadata": {},
   "outputs": [],
   "source": [
    "#Codificação da variável sexo\n",
    "covid_df[\"CS_SEXO\"] = coding(covid_df[\"CS_SEXO\"], {'F':0,'M':1,'I':9}) "
   ]
  },
  {
   "cell_type": "code",
   "execution_count": 21,
   "metadata": {},
   "outputs": [
    {
     "output_type": "execute_result",
     "data": {
      "text/plain": [
       "67016     -3\n",
       "303122    -1\n",
       "345213   -77\n",
       "Name: NU_IDADE_N, dtype: int64"
      ]
     },
     "metadata": {},
     "execution_count": 21
    }
   ],
   "source": [
    "covid_df.NU_IDADE_N [covid_df.NU_IDADE_N<0]"
   ]
  },
  {
   "cell_type": "code",
   "execution_count": 22,
   "metadata": {},
   "outputs": [
    {
     "output_type": "stream",
     "name": "stderr",
     "text": [
      "<ipython-input-5-1cd5fc9c8821>:9: SettingWithCopyWarning: \nA value is trying to be set on a copy of a slice from a DataFrame\n\nSee the caveats in the documentation: https://pandas.pydata.org/pandas-docs/stable/user_guide/indexing.html#returning-a-view-versus-a-copy\n  covid_df.NU_IDADE_N [covid_df.NU_IDADE_N<0] = covid_df.NU_IDADE_N.mean()\n"
     ]
    }
   ],
   "source": [
    "covid_df = corrige_idade(covid_df)"
   ]
  },
  {
   "cell_type": "code",
   "execution_count": 23,
   "metadata": {},
   "outputs": [],
   "source": [
    "#Cria variável categórica baseada na idade\n",
    "covid_df=cria_faixa_etaria(covid_df)"
   ]
  },
  {
   "cell_type": "code",
   "execution_count": 24,
   "metadata": {},
   "outputs": [
    {
     "output_type": "stream",
     "name": "stdout",
     "text": [
      "Preenchidos:\n",
      "5438 nulos de HOSPITAL \n",
      "30662 nulos de UTI \n",
      "39857 nulos de FEBRE \n",
      "33191 nulos de TOSSE \n",
      "71079 nulos de GARGANTA \n",
      "28971 nulos de DISPNEIA \n",
      "43446 nulos de DESC_RESP \n",
      "37422 nulos de SATURACAO \n",
      "72318 nulos de DIARREIA \n",
      "74968 nulos de VOMITO \n",
      "78806 nulos de DOR_ABD \n",
      "69587 nulos de FADIGA \n",
      "76278 nulos de PERD_OLFT \n",
      "76541 nulos de PERD_PALA \n",
      "72145 nulos de OUTRO_SIN \n",
      "126249 nulos de CARDIOPATI \n",
      "154373 nulos de HEMATOLOGI \n",
      "154635 nulos de SIND_DOWN \n",
      "154540 nulos de HEPATICA \n",
      "152914 nulos de ASMA \n",
      "134801 nulos de DIABETES \n",
      "151935 nulos de NEUROLOGIC \n",
      "151996 nulos de PNEUMOPATI \n",
      "153395 nulos de IMUNODEPRE \n",
      "152847 nulos de RENAL \n",
      "149777 nulos de OBESIDADE \n",
      "135436 nulos de OUT_MORBI \n",
      "59869 nulos de VACINA \n",
      "135382 nulos de PCR_SARS2 \n",
      "231171 nulos de POS_AN_OUT \n",
      "30240 nulos de SUPORT_VEN \n",
      "86646 nulos de TOMO_RES \n",
      "231844 nulos de AN_SARS2 \n",
      "0 nulos de CO_MUN_NOT \n",
      "0 nulos de CS_SEXO \n",
      "3367 nulos de CLASSI_FIN \n",
      "68731 nulos de PUERPERA \n",
      "0 nulos de CS_RACA \n",
      "216674 nulos de RES_IGM \n",
      "229144 nulos de RES_IGA \n",
      "227614 nulos de TP_AM_SOR \n"
     ]
    }
   ],
   "source": [
    "# Tratamento das demais variáveis categóricas (HOSPITAL, UTI, etc.) com valores nulos.\n",
    "# Preenche com 9 (\"Ignorado\")     \n",
    "colunas_preencher = ['HOSPITAL','UTI','FEBRE','TOSSE','GARGANTA','DISPNEIA',\n",
    "'DESC_RESP','SATURACAO','DIARREIA','VOMITO', 'DOR_ABD','FADIGA','PERD_OLFT',\n",
    "'PERD_PALA', 'OUTRO_SIN','CARDIOPATI','HEMATOLOGI','SIND_DOWN','HEPATICA',\n",
    "'ASMA','DIABETES','NEUROLOGIC','PNEUMOPATI','IMUNODEPRE','RENAL','OBESIDADE',\n",
    "'OUT_MORBI','VACINA','PCR_SARS2','POS_AN_OUT','SUPORT_VEN','TOMO_RES','AN_SARS2',\n",
    "'CO_MUN_NOT', 'CS_SEXO','CLASSI_FIN','PUERPERA','CS_RACA', 'RES_IGM','RES_IGA','TP_AM_SOR']\n",
    "print(\"Preenchidos:\")\n",
    "for cols in colunas_preencher:\n",
    "    total_nulos = covid_df[(covid_df[cols].isnull())].shape[0]\n",
    "    print(\"{} nulos de {} \".format(total_nulos, cols))\n",
    "    covid_df[cols].fillna(9, inplace = True)"
   ]
  },
  {
   "cell_type": "code",
   "execution_count": 25,
   "metadata": {},
   "outputs": [],
   "source": [
    "# Filtra apenas as colunas ainda relevantes\n",
    "colunas_mantidas = ['EVOLUCAO','HOSPITAL','UTI','SUPORT_VEN','CS_RACA','FEBRE','TOSSE','GARGANTA','DISPNEIA','DESC_RESP','SATURACAO','DIARREIA','VOMITO','OUTRO_SIN','PUERPERA','CARDIOPATI','HEMATOLOGI','SIND_DOWN','HEPATICA','ASMA','DIABETES','NEUROLOGIC','PNEUMOPATI','IMUNODEPRE','RENAL','OBESIDADE','OUT_MORBI','VACINA','CLASSI_FIN','PCR_SARS2','DOR_ABD','FADIGA','PERD_OLFT','PERD_PALA','TOMO_RES','AN_SARS2','CO_MUN_NOT', 'CS_SEXO', 'POS_AN_OUT','NU_IDADE_N','RES_IGM','RES_IGA','NU_IDADE_CAT'] \n",
    "covid_df = covid_df[colunas_mantidas]\n"
   ]
  },
  {
   "cell_type": "code",
   "execution_count": 26,
   "metadata": {},
   "outputs": [
    {
     "output_type": "stream",
     "name": "stdout",
     "text": [
      "Num. variáveis inicial:43\n",
      "Num. variáveis final:43\n"
     ]
    }
   ],
   "source": [
    "#import sklearn.feature_selection.VarianceThreshold\n",
    "# Eliminar as colunas com baixa variância\n",
    "covid_df = elimina_baixa_variancia(covid_df) "
   ]
  },
  {
   "source": [
    "## União dos dataframes geoses_df e covid_df_var"
   ],
   "cell_type": "markdown",
   "metadata": {}
  },
  {
   "cell_type": "code",
   "execution_count": 27,
   "metadata": {},
   "outputs": [
    {
     "output_type": "stream",
     "name": "stdout",
     "text": [
      "Total de registros em geoses_df: 5565\n",
      "<ipython-input-5-72610e129d67>:17: SettingWithCopyWarning: \n",
      "A value is trying to be set on a copy of a slice from a DataFrame.\n",
      "Try using .loc[row_indexer,col_indexer] = value instead\n",
      "\n",
      "See the caveats in the documentation: https://pandas.pydata.org/pandas-docs/stable/user_guide/indexing.html#returning-a-view-versus-a-copy\n",
      "  geoses_df['CO_MUN_NOT'] = geoses_df['CO_MUN_NOT'].apply(lambda x: str(x)[:-1]).astype(int)\n"
     ]
    }
   ],
   "source": [
    "covid_df = merge_dfs(geoses_df,covid_df) #une os dataframes pelo código do município."
   ]
  },
  {
   "cell_type": "code",
   "execution_count": 28,
   "metadata": {},
   "outputs": [
    {
     "output_type": "execute_result",
     "data": {
      "text/plain": [
       "          EVOLUCAO  HOSPITAL  UTI  SUPORT_VEN  CS_RACA  FEBRE  TOSSE  \\\n",
       "covid_df         0         0    0           0        0      0      0   \n",
       "\n",
       "          GARGANTA  DISPNEIA  DESC_RESP  ...  PERD_PALA  TOMO_RES  AN_SARS2  \\\n",
       "covid_df         0         0          0  ...          0         0         0   \n",
       "\n",
       "          CS_SEXO  POS_AN_OUT  NU_IDADE_N  RES_IGM  RES_IGA  NU_IDADE_CAT  \\\n",
       "covid_df        0           0           0        0        0             0   \n",
       "\n",
       "          GeoSES  \n",
       "covid_df       0  \n",
       "\n",
       "[1 rows x 43 columns]"
      ],
      "text/html": "<div>\n<style scoped>\n    .dataframe tbody tr th:only-of-type {\n        vertical-align: middle;\n    }\n\n    .dataframe tbody tr th {\n        vertical-align: top;\n    }\n\n    .dataframe thead th {\n        text-align: right;\n    }\n</style>\n<table border=\"1\" class=\"dataframe\">\n  <thead>\n    <tr style=\"text-align: right;\">\n      <th></th>\n      <th>EVOLUCAO</th>\n      <th>HOSPITAL</th>\n      <th>UTI</th>\n      <th>SUPORT_VEN</th>\n      <th>CS_RACA</th>\n      <th>FEBRE</th>\n      <th>TOSSE</th>\n      <th>GARGANTA</th>\n      <th>DISPNEIA</th>\n      <th>DESC_RESP</th>\n      <th>...</th>\n      <th>PERD_PALA</th>\n      <th>TOMO_RES</th>\n      <th>AN_SARS2</th>\n      <th>CS_SEXO</th>\n      <th>POS_AN_OUT</th>\n      <th>NU_IDADE_N</th>\n      <th>RES_IGM</th>\n      <th>RES_IGA</th>\n      <th>NU_IDADE_CAT</th>\n      <th>GeoSES</th>\n    </tr>\n  </thead>\n  <tbody>\n    <tr>\n      <th>covid_df</th>\n      <td>0</td>\n      <td>0</td>\n      <td>0</td>\n      <td>0</td>\n      <td>0</td>\n      <td>0</td>\n      <td>0</td>\n      <td>0</td>\n      <td>0</td>\n      <td>0</td>\n      <td>...</td>\n      <td>0</td>\n      <td>0</td>\n      <td>0</td>\n      <td>0</td>\n      <td>0</td>\n      <td>0</td>\n      <td>0</td>\n      <td>0</td>\n      <td>0</td>\n      <td>0</td>\n    </tr>\n  </tbody>\n</table>\n<p>1 rows × 43 columns</p>\n</div>"
     },
     "metadata": {},
     "execution_count": 28
    }
   ],
   "source": [
    "#Verifica a quantidade de campos não preenchidos/faltantes\n",
    "k= pd.DataFrame()\n",
    "k['covid_df'] = covid_df.isnull().sum()\n",
    "k.T"
   ]
  },
  {
   "cell_type": "code",
   "execution_count": 29,
   "metadata": {},
   "outputs": [
    {
     "output_type": "execute_result",
     "data": {
      "text/plain": [
       "                   EVOLUCAO  HOSPITAL  UTI  SUPORT_VEN  CS_RACA  FEBRE  TOSSE  \\\n",
       "No de únicos            4.0       4.0  4.0         4.0      4.0    4.0    4.0   \n",
       "Prim. valor unico       1.0       1.0  1.0         1.0      1.0    1.0    1.0   \n",
       "Seg. valor unico        2.0       2.0  2.0         2.0      2.0    2.0    2.0   \n",
       "\n",
       "                   GARGANTA  DISPNEIA  DESC_RESP  ...  PERD_PALA  TOMO_RES  \\\n",
       "No de únicos            4.0       4.0        4.0  ...        4.0       4.0   \n",
       "Prim. valor unico       1.0       1.0        1.0  ...        1.0       1.0   \n",
       "Seg. valor unico        2.0       2.0        2.0  ...        2.0       2.0   \n",
       "\n",
       "                   AN_SARS2  CS_SEXO  POS_AN_OUT  NU_IDADE_N  RES_IGM  \\\n",
       "No de únicos            4.0      4.0         4.0         4.0      4.0   \n",
       "Prim. valor unico       1.0      1.0         1.0         1.0      1.0   \n",
       "Seg. valor unico        2.0      2.0         2.0         2.0      2.0   \n",
       "\n",
       "                   RES_IGA  NU_IDADE_CAT  GeoSES  \n",
       "No de únicos           4.0           4.0     4.0  \n",
       "Prim. valor unico      1.0           1.0     1.0  \n",
       "Seg. valor unico       2.0           2.0     2.0  \n",
       "\n",
       "[3 rows x 43 columns]"
      ],
      "text/html": "<div>\n<style scoped>\n    .dataframe tbody tr th:only-of-type {\n        vertical-align: middle;\n    }\n\n    .dataframe tbody tr th {\n        vertical-align: top;\n    }\n\n    .dataframe thead th {\n        text-align: right;\n    }\n</style>\n<table border=\"1\" class=\"dataframe\">\n  <thead>\n    <tr style=\"text-align: right;\">\n      <th></th>\n      <th>EVOLUCAO</th>\n      <th>HOSPITAL</th>\n      <th>UTI</th>\n      <th>SUPORT_VEN</th>\n      <th>CS_RACA</th>\n      <th>FEBRE</th>\n      <th>TOSSE</th>\n      <th>GARGANTA</th>\n      <th>DISPNEIA</th>\n      <th>DESC_RESP</th>\n      <th>...</th>\n      <th>PERD_PALA</th>\n      <th>TOMO_RES</th>\n      <th>AN_SARS2</th>\n      <th>CS_SEXO</th>\n      <th>POS_AN_OUT</th>\n      <th>NU_IDADE_N</th>\n      <th>RES_IGM</th>\n      <th>RES_IGA</th>\n      <th>NU_IDADE_CAT</th>\n      <th>GeoSES</th>\n    </tr>\n  </thead>\n  <tbody>\n    <tr>\n      <th>No de únicos</th>\n      <td>4.0</td>\n      <td>4.0</td>\n      <td>4.0</td>\n      <td>4.0</td>\n      <td>4.0</td>\n      <td>4.0</td>\n      <td>4.0</td>\n      <td>4.0</td>\n      <td>4.0</td>\n      <td>4.0</td>\n      <td>...</td>\n      <td>4.0</td>\n      <td>4.0</td>\n      <td>4.0</td>\n      <td>4.0</td>\n      <td>4.0</td>\n      <td>4.0</td>\n      <td>4.0</td>\n      <td>4.0</td>\n      <td>4.0</td>\n      <td>4.0</td>\n    </tr>\n    <tr>\n      <th>Prim. valor unico</th>\n      <td>1.0</td>\n      <td>1.0</td>\n      <td>1.0</td>\n      <td>1.0</td>\n      <td>1.0</td>\n      <td>1.0</td>\n      <td>1.0</td>\n      <td>1.0</td>\n      <td>1.0</td>\n      <td>1.0</td>\n      <td>...</td>\n      <td>1.0</td>\n      <td>1.0</td>\n      <td>1.0</td>\n      <td>1.0</td>\n      <td>1.0</td>\n      <td>1.0</td>\n      <td>1.0</td>\n      <td>1.0</td>\n      <td>1.0</td>\n      <td>1.0</td>\n    </tr>\n    <tr>\n      <th>Seg. valor unico</th>\n      <td>2.0</td>\n      <td>2.0</td>\n      <td>2.0</td>\n      <td>2.0</td>\n      <td>2.0</td>\n      <td>2.0</td>\n      <td>2.0</td>\n      <td>2.0</td>\n      <td>2.0</td>\n      <td>2.0</td>\n      <td>...</td>\n      <td>2.0</td>\n      <td>2.0</td>\n      <td>2.0</td>\n      <td>2.0</td>\n      <td>2.0</td>\n      <td>2.0</td>\n      <td>2.0</td>\n      <td>2.0</td>\n      <td>2.0</td>\n      <td>2.0</td>\n    </tr>\n  </tbody>\n</table>\n<p>3 rows × 43 columns</p>\n</div>"
     },
     "metadata": {},
     "execution_count": 29
    }
   ],
   "source": [
    "#Exibe as ocorrências de valores únicos em cada coluna\n",
    "unicos(covid_df)"
   ]
  },
  {
   "cell_type": "code",
   "execution_count": 30,
   "metadata": {},
   "outputs": [],
   "source": [
    "#Converte os tipos das variaveis do dataframe\n",
    "#covid_df = converte_tipo_category(covid_df)"
   ]
  },
  {
   "cell_type": "code",
   "execution_count": 31,
   "metadata": {},
   "outputs": [
    {
     "output_type": "execute_result",
     "data": {
      "text/plain": [
       "EVOLUCAO        float64\n",
       "HOSPITAL        float64\n",
       "UTI             float64\n",
       "SUPORT_VEN      float64\n",
       "CS_RACA           int64\n",
       "FEBRE           float64\n",
       "TOSSE           float64\n",
       "GARGANTA        float64\n",
       "DISPNEIA        float64\n",
       "DESC_RESP       float64\n",
       "SATURACAO       float64\n",
       "DIARREIA        float64\n",
       "VOMITO          float64\n",
       "OUTRO_SIN       float64\n",
       "PUERPERA        float64\n",
       "CARDIOPATI      float64\n",
       "HEMATOLOGI      float64\n",
       "SIND_DOWN       float64\n",
       "HEPATICA        float64\n",
       "ASMA            float64\n",
       "DIABETES        float64\n",
       "NEUROLOGIC      float64\n",
       "PNEUMOPATI      float64\n",
       "IMUNODEPRE      float64\n",
       "RENAL           float64\n",
       "OBESIDADE       float64\n",
       "OUT_MORBI       float64\n",
       "VACINA          float64\n",
       "CLASSI_FIN      float64\n",
       "PCR_SARS2       float64\n",
       "DOR_ABD         float64\n",
       "FADIGA          float64\n",
       "PERD_OLFT       float64\n",
       "PERD_PALA       float64\n",
       "TOMO_RES        float64\n",
       "AN_SARS2        float64\n",
       "CS_SEXO           int64\n",
       "POS_AN_OUT      float64\n",
       "NU_IDADE_N      float64\n",
       "RES_IGM         float64\n",
       "RES_IGA         float64\n",
       "NU_IDADE_CAT      int32\n",
       "GeoSES          float64\n",
       "dtype: object"
      ]
     },
     "metadata": {},
     "execution_count": 31
    }
   ],
   "source": [
    "#Verifica os tipos das variáveis \n",
    "covid_df.dtypes"
   ]
  },
  {
   "source": [
    "## Definição da variável alvo."
   ],
   "cell_type": "markdown",
   "metadata": {}
  },
  {
   "cell_type": "code",
   "execution_count": 32,
   "metadata": {},
   "outputs": [],
   "source": [
    "covid_df = define_variavel_alvo(covid_df)  # define a variável alvo através da análise de outras colunas do dataframe."
   ]
  },
  {
   "cell_type": "code",
   "execution_count": 33,
   "metadata": {},
   "outputs": [
    {
     "output_type": "stream",
     "name": "stdout",
     "text": [
      "Total de casos:  254948\n"
     ]
    },
    {
     "output_type": "execute_result",
     "data": {
      "text/plain": [
       "0    175920\n",
       "1     79028\n",
       "Name: OBT_COVID, dtype: int64"
      ]
     },
     "metadata": {},
     "execution_count": 33
    },
    {
     "output_type": "display_data",
     "data": {
      "text/plain": "<Figure size 432x432 with 1 Axes>",
      "image/svg+xml": "<?xml version=\"1.0\" encoding=\"utf-8\" standalone=\"no\"?>\r\n<!DOCTYPE svg PUBLIC \"-//W3C//DTD SVG 1.1//EN\"\r\n  \"http://www.w3.org/Graphics/SVG/1.1/DTD/svg11.dtd\">\r\n<!-- Created with matplotlib (https://matplotlib.org/) -->\r\n<svg height=\"423.1177pt\" version=\"1.1\" viewBox=\"0 0 467.44425 423.1177\" width=\"467.44425pt\" xmlns=\"http://www.w3.org/2000/svg\" xmlns:xlink=\"http://www.w3.org/1999/xlink\">\r\n <defs>\r\n  <style type=\"text/css\">\r\n*{stroke-linecap:butt;stroke-linejoin:round;}\r\n  </style>\r\n </defs>\r\n <g id=\"figure_1\">\r\n  <g id=\"patch_1\">\r\n   <path d=\"M 0 423.1177 \r\nL 467.44425 423.1177 \r\nL 467.44425 0 \r\nL 0 0 \r\nz\r\n\" style=\"fill:#f0f0f0;\"/>\r\n  </g>\r\n  <g id=\"axes_1\">\r\n   <g id=\"patch_2\">\r\n    <path d=\"M 84.40425 378.43845 \r\nL 460.24425 378.43845 \r\nL 460.24425 28.51845 \r\nL 84.40425 28.51845 \r\nz\r\n\" style=\"fill:#f0f0f0;\"/>\r\n   </g>\r\n   <g id=\"matplotlib.axis_1\">\r\n    <g id=\"xtick_1\">\r\n     <g id=\"line2d_1\"/>\r\n     <g id=\"text_1\">\r\n      <!-- 0 -->\r\n      <defs>\r\n       <path d=\"M 31.78125 66.40625 \r\nQ 24.171875 66.40625 20.328125 58.90625 \r\nQ 16.5 51.421875 16.5 36.375 \r\nQ 16.5 21.390625 20.328125 13.890625 \r\nQ 24.171875 6.390625 31.78125 6.390625 \r\nQ 39.453125 6.390625 43.28125 13.890625 \r\nQ 47.125 21.390625 47.125 36.375 \r\nQ 47.125 51.421875 43.28125 58.90625 \r\nQ 39.453125 66.40625 31.78125 66.40625 \r\nz\r\nM 31.78125 74.21875 \r\nQ 44.046875 74.21875 50.515625 64.515625 \r\nQ 56.984375 54.828125 56.984375 36.375 \r\nQ 56.984375 17.96875 50.515625 8.265625 \r\nQ 44.046875 -1.421875 31.78125 -1.421875 \r\nQ 19.53125 -1.421875 13.0625 8.265625 \r\nQ 6.59375 17.96875 6.59375 36.375 \r\nQ 6.59375 54.828125 13.0625 64.515625 \r\nQ 19.53125 74.21875 31.78125 74.21875 \r\nz\r\n\" id=\"DejaVuSans-48\"/>\r\n      </defs>\r\n      <g transform=\"translate(173.9105 392.576262)scale(0.14 -0.14)\">\r\n       <use xlink:href=\"#DejaVuSans-48\"/>\r\n      </g>\r\n     </g>\r\n    </g>\r\n    <g id=\"xtick_2\">\r\n     <g id=\"line2d_2\"/>\r\n     <g id=\"text_2\">\r\n      <!-- 1 -->\r\n      <defs>\r\n       <path d=\"M 12.40625 8.296875 \r\nL 28.515625 8.296875 \r\nL 28.515625 63.921875 \r\nL 10.984375 60.40625 \r\nL 10.984375 69.390625 \r\nL 28.421875 72.90625 \r\nL 38.28125 72.90625 \r\nL 38.28125 8.296875 \r\nL 54.390625 8.296875 \r\nL 54.390625 0 \r\nL 12.40625 0 \r\nz\r\n\" id=\"DejaVuSans-49\"/>\r\n      </defs>\r\n      <g transform=\"translate(361.8305 392.576262)scale(0.14 -0.14)\">\r\n       <use xlink:href=\"#DejaVuSans-49\"/>\r\n      </g>\r\n     </g>\r\n    </g>\r\n    <g id=\"text_3\">\r\n     <!-- OBT_COVID -->\r\n     <defs>\r\n      <path d=\"M 39.40625 66.21875 \r\nQ 28.65625 66.21875 22.328125 58.203125 \r\nQ 16.015625 50.203125 16.015625 36.375 \r\nQ 16.015625 22.609375 22.328125 14.59375 \r\nQ 28.65625 6.59375 39.40625 6.59375 \r\nQ 50.140625 6.59375 56.421875 14.59375 \r\nQ 62.703125 22.609375 62.703125 36.375 \r\nQ 62.703125 50.203125 56.421875 58.203125 \r\nQ 50.140625 66.21875 39.40625 66.21875 \r\nz\r\nM 39.40625 74.21875 \r\nQ 54.734375 74.21875 63.90625 63.9375 \r\nQ 73.09375 53.65625 73.09375 36.375 \r\nQ 73.09375 19.140625 63.90625 8.859375 \r\nQ 54.734375 -1.421875 39.40625 -1.421875 \r\nQ 24.03125 -1.421875 14.8125 8.828125 \r\nQ 5.609375 19.09375 5.609375 36.375 \r\nQ 5.609375 53.65625 14.8125 63.9375 \r\nQ 24.03125 74.21875 39.40625 74.21875 \r\nz\r\n\" id=\"DejaVuSans-79\"/>\r\n      <path d=\"M 19.671875 34.8125 \r\nL 19.671875 8.109375 \r\nL 35.5 8.109375 \r\nQ 43.453125 8.109375 47.28125 11.40625 \r\nQ 51.125 14.703125 51.125 21.484375 \r\nQ 51.125 28.328125 47.28125 31.5625 \r\nQ 43.453125 34.8125 35.5 34.8125 \r\nz\r\nM 19.671875 64.796875 \r\nL 19.671875 42.828125 \r\nL 34.28125 42.828125 \r\nQ 41.5 42.828125 45.03125 45.53125 \r\nQ 48.578125 48.25 48.578125 53.8125 \r\nQ 48.578125 59.328125 45.03125 62.0625 \r\nQ 41.5 64.796875 34.28125 64.796875 \r\nz\r\nM 9.8125 72.90625 \r\nL 35.015625 72.90625 \r\nQ 46.296875 72.90625 52.390625 68.21875 \r\nQ 58.5 63.53125 58.5 54.890625 \r\nQ 58.5 48.1875 55.375 44.234375 \r\nQ 52.25 40.28125 46.1875 39.3125 \r\nQ 53.46875 37.75 57.5 32.78125 \r\nQ 61.53125 27.828125 61.53125 20.40625 \r\nQ 61.53125 10.640625 54.890625 5.3125 \r\nQ 48.25 0 35.984375 0 \r\nL 9.8125 0 \r\nz\r\n\" id=\"DejaVuSans-66\"/>\r\n      <path d=\"M -0.296875 72.90625 \r\nL 61.375 72.90625 \r\nL 61.375 64.59375 \r\nL 35.5 64.59375 \r\nL 35.5 0 \r\nL 25.59375 0 \r\nL 25.59375 64.59375 \r\nL -0.296875 64.59375 \r\nz\r\n\" id=\"DejaVuSans-84\"/>\r\n      <path d=\"M 50.984375 -16.609375 \r\nL 50.984375 -23.578125 \r\nL -0.984375 -23.578125 \r\nL -0.984375 -16.609375 \r\nz\r\n\" id=\"DejaVuSans-95\"/>\r\n      <path d=\"M 64.40625 67.28125 \r\nL 64.40625 56.890625 \r\nQ 59.421875 61.53125 53.78125 63.8125 \r\nQ 48.140625 66.109375 41.796875 66.109375 \r\nQ 29.296875 66.109375 22.65625 58.46875 \r\nQ 16.015625 50.828125 16.015625 36.375 \r\nQ 16.015625 21.96875 22.65625 14.328125 \r\nQ 29.296875 6.6875 41.796875 6.6875 \r\nQ 48.140625 6.6875 53.78125 8.984375 \r\nQ 59.421875 11.28125 64.40625 15.921875 \r\nL 64.40625 5.609375 \r\nQ 59.234375 2.09375 53.4375 0.328125 \r\nQ 47.65625 -1.421875 41.21875 -1.421875 \r\nQ 24.65625 -1.421875 15.125 8.703125 \r\nQ 5.609375 18.84375 5.609375 36.375 \r\nQ 5.609375 53.953125 15.125 64.078125 \r\nQ 24.65625 74.21875 41.21875 74.21875 \r\nQ 47.75 74.21875 53.53125 72.484375 \r\nQ 59.328125 70.75 64.40625 67.28125 \r\nz\r\n\" id=\"DejaVuSans-67\"/>\r\n      <path d=\"M 28.609375 0 \r\nL 0.78125 72.90625 \r\nL 11.078125 72.90625 \r\nL 34.1875 11.53125 \r\nL 57.328125 72.90625 \r\nL 67.578125 72.90625 \r\nL 39.796875 0 \r\nz\r\n\" id=\"DejaVuSans-86\"/>\r\n      <path d=\"M 9.8125 72.90625 \r\nL 19.671875 72.90625 \r\nL 19.671875 0 \r\nL 9.8125 0 \r\nz\r\n\" id=\"DejaVuSans-73\"/>\r\n      <path d=\"M 19.671875 64.796875 \r\nL 19.671875 8.109375 \r\nL 31.59375 8.109375 \r\nQ 46.6875 8.109375 53.6875 14.9375 \r\nQ 60.6875 21.78125 60.6875 36.53125 \r\nQ 60.6875 51.171875 53.6875 57.984375 \r\nQ 46.6875 64.796875 31.59375 64.796875 \r\nz\r\nM 9.8125 72.90625 \r\nL 30.078125 72.90625 \r\nQ 51.265625 72.90625 61.171875 64.09375 \r\nQ 71.09375 55.28125 71.09375 36.53125 \r\nQ 71.09375 17.671875 61.125 8.828125 \r\nQ 51.171875 0 30.078125 0 \r\nL 9.8125 0 \r\nz\r\n\" id=\"DejaVuSans-68\"/>\r\n     </defs>\r\n     <g transform=\"translate(223.595063 411.956575)scale(0.168 -0.168)\">\r\n      <use xlink:href=\"#DejaVuSans-79\"/>\r\n      <use x=\"78.710938\" xlink:href=\"#DejaVuSans-66\"/>\r\n      <use x=\"147.314453\" xlink:href=\"#DejaVuSans-84\"/>\r\n      <use x=\"208.398438\" xlink:href=\"#DejaVuSans-95\"/>\r\n      <use x=\"258.398438\" xlink:href=\"#DejaVuSans-67\"/>\r\n      <use x=\"328.222656\" xlink:href=\"#DejaVuSans-79\"/>\r\n      <use x=\"405.183594\" xlink:href=\"#DejaVuSans-86\"/>\r\n      <use x=\"473.591797\" xlink:href=\"#DejaVuSans-73\"/>\r\n      <use x=\"503.083984\" xlink:href=\"#DejaVuSans-68\"/>\r\n     </g>\r\n    </g>\r\n   </g>\r\n   <g id=\"matplotlib.axis_2\">\r\n    <g id=\"ytick_1\">\r\n     <g id=\"line2d_3\">\r\n      <path clip-path=\"url(#pdb0524d9f8)\" d=\"M 84.40425 378.43845 \r\nL 460.24425 378.43845 \r\n\" style=\"fill:none;stroke:#cbcbcb;\"/>\r\n     </g>\r\n     <g id=\"line2d_4\"/>\r\n     <g id=\"text_4\">\r\n      <!-- 0 -->\r\n      <g transform=\"translate(71.99675 383.757356)scale(0.14 -0.14)\">\r\n       <use xlink:href=\"#DejaVuSans-48\"/>\r\n      </g>\r\n     </g>\r\n    </g>\r\n    <g id=\"ytick_2\">\r\n     <g id=\"line2d_5\">\r\n      <path clip-path=\"url(#pdb0524d9f8)\" d=\"M 84.40425 331.079261 \r\nL 460.24425 331.079261 \r\n\" style=\"fill:none;stroke:#cbcbcb;\"/>\r\n     </g>\r\n     <g id=\"line2d_6\"/>\r\n     <g id=\"text_5\">\r\n      <!-- 25000 -->\r\n      <defs>\r\n       <path d=\"M 19.1875 8.296875 \r\nL 53.609375 8.296875 \r\nL 53.609375 0 \r\nL 7.328125 0 \r\nL 7.328125 8.296875 \r\nQ 12.9375 14.109375 22.625 23.890625 \r\nQ 32.328125 33.6875 34.8125 36.53125 \r\nQ 39.546875 41.84375 41.421875 45.53125 \r\nQ 43.3125 49.21875 43.3125 52.78125 \r\nQ 43.3125 58.59375 39.234375 62.25 \r\nQ 35.15625 65.921875 28.609375 65.921875 \r\nQ 23.96875 65.921875 18.8125 64.3125 \r\nQ 13.671875 62.703125 7.8125 59.421875 \r\nL 7.8125 69.390625 \r\nQ 13.765625 71.78125 18.9375 73 \r\nQ 24.125 74.21875 28.421875 74.21875 \r\nQ 39.75 74.21875 46.484375 68.546875 \r\nQ 53.21875 62.890625 53.21875 53.421875 \r\nQ 53.21875 48.921875 51.53125 44.890625 \r\nQ 49.859375 40.875 45.40625 35.40625 \r\nQ 44.1875 33.984375 37.640625 27.21875 \r\nQ 31.109375 20.453125 19.1875 8.296875 \r\nz\r\n\" id=\"DejaVuSans-50\"/>\r\n       <path d=\"M 10.796875 72.90625 \r\nL 49.515625 72.90625 \r\nL 49.515625 64.59375 \r\nL 19.828125 64.59375 \r\nL 19.828125 46.734375 \r\nQ 21.96875 47.46875 24.109375 47.828125 \r\nQ 26.265625 48.1875 28.421875 48.1875 \r\nQ 40.625 48.1875 47.75 41.5 \r\nQ 54.890625 34.8125 54.890625 23.390625 \r\nQ 54.890625 11.625 47.5625 5.09375 \r\nQ 40.234375 -1.421875 26.90625 -1.421875 \r\nQ 22.3125 -1.421875 17.546875 -0.640625 \r\nQ 12.796875 0.140625 7.71875 1.703125 \r\nL 7.71875 11.625 \r\nQ 12.109375 9.234375 16.796875 8.0625 \r\nQ 21.484375 6.890625 26.703125 6.890625 \r\nQ 35.15625 6.890625 40.078125 11.328125 \r\nQ 45.015625 15.765625 45.015625 23.390625 \r\nQ 45.015625 31 40.078125 35.4375 \r\nQ 35.15625 39.890625 26.703125 39.890625 \r\nQ 22.75 39.890625 18.8125 39.015625 \r\nQ 14.890625 38.140625 10.796875 36.28125 \r\nz\r\n\" id=\"DejaVuSans-53\"/>\r\n      </defs>\r\n      <g transform=\"translate(36.36675 336.398167)scale(0.14 -0.14)\">\r\n       <use xlink:href=\"#DejaVuSans-50\"/>\r\n       <use x=\"63.623047\" xlink:href=\"#DejaVuSans-53\"/>\r\n       <use x=\"127.246094\" xlink:href=\"#DejaVuSans-48\"/>\r\n       <use x=\"190.869141\" xlink:href=\"#DejaVuSans-48\"/>\r\n       <use x=\"254.492188\" xlink:href=\"#DejaVuSans-48\"/>\r\n      </g>\r\n     </g>\r\n    </g>\r\n    <g id=\"ytick_3\">\r\n     <g id=\"line2d_7\">\r\n      <path clip-path=\"url(#pdb0524d9f8)\" d=\"M 84.40425 283.720072 \r\nL 460.24425 283.720072 \r\n\" style=\"fill:none;stroke:#cbcbcb;\"/>\r\n     </g>\r\n     <g id=\"line2d_8\"/>\r\n     <g id=\"text_6\">\r\n      <!-- 50000 -->\r\n      <g transform=\"translate(36.36675 289.038978)scale(0.14 -0.14)\">\r\n       <use xlink:href=\"#DejaVuSans-53\"/>\r\n       <use x=\"63.623047\" xlink:href=\"#DejaVuSans-48\"/>\r\n       <use x=\"127.246094\" xlink:href=\"#DejaVuSans-48\"/>\r\n       <use x=\"190.869141\" xlink:href=\"#DejaVuSans-48\"/>\r\n       <use x=\"254.492188\" xlink:href=\"#DejaVuSans-48\"/>\r\n      </g>\r\n     </g>\r\n    </g>\r\n    <g id=\"ytick_4\">\r\n     <g id=\"line2d_9\">\r\n      <path clip-path=\"url(#pdb0524d9f8)\" d=\"M 84.40425 236.360882 \r\nL 460.24425 236.360882 \r\n\" style=\"fill:none;stroke:#cbcbcb;\"/>\r\n     </g>\r\n     <g id=\"line2d_10\"/>\r\n     <g id=\"text_7\">\r\n      <!-- 75000 -->\r\n      <defs>\r\n       <path d=\"M 8.203125 72.90625 \r\nL 55.078125 72.90625 \r\nL 55.078125 68.703125 \r\nL 28.609375 0 \r\nL 18.3125 0 \r\nL 43.21875 64.59375 \r\nL 8.203125 64.59375 \r\nz\r\n\" id=\"DejaVuSans-55\"/>\r\n      </defs>\r\n      <g transform=\"translate(36.36675 241.679789)scale(0.14 -0.14)\">\r\n       <use xlink:href=\"#DejaVuSans-55\"/>\r\n       <use x=\"63.623047\" xlink:href=\"#DejaVuSans-53\"/>\r\n       <use x=\"127.246094\" xlink:href=\"#DejaVuSans-48\"/>\r\n       <use x=\"190.869141\" xlink:href=\"#DejaVuSans-48\"/>\r\n       <use x=\"254.492188\" xlink:href=\"#DejaVuSans-48\"/>\r\n      </g>\r\n     </g>\r\n    </g>\r\n    <g id=\"ytick_5\">\r\n     <g id=\"line2d_11\">\r\n      <path clip-path=\"url(#pdb0524d9f8)\" d=\"M 84.40425 189.001693 \r\nL 460.24425 189.001693 \r\n\" style=\"fill:none;stroke:#cbcbcb;\"/>\r\n     </g>\r\n     <g id=\"line2d_12\"/>\r\n     <g id=\"text_8\">\r\n      <!-- 100000 -->\r\n      <g transform=\"translate(27.45925 194.320599)scale(0.14 -0.14)\">\r\n       <use xlink:href=\"#DejaVuSans-49\"/>\r\n       <use x=\"63.623047\" xlink:href=\"#DejaVuSans-48\"/>\r\n       <use x=\"127.246094\" xlink:href=\"#DejaVuSans-48\"/>\r\n       <use x=\"190.869141\" xlink:href=\"#DejaVuSans-48\"/>\r\n       <use x=\"254.492188\" xlink:href=\"#DejaVuSans-48\"/>\r\n       <use x=\"318.115234\" xlink:href=\"#DejaVuSans-48\"/>\r\n      </g>\r\n     </g>\r\n    </g>\r\n    <g id=\"ytick_6\">\r\n     <g id=\"line2d_13\">\r\n      <path clip-path=\"url(#pdb0524d9f8)\" d=\"M 84.40425 141.642504 \r\nL 460.24425 141.642504 \r\n\" style=\"fill:none;stroke:#cbcbcb;\"/>\r\n     </g>\r\n     <g id=\"line2d_14\"/>\r\n     <g id=\"text_9\">\r\n      <!-- 125000 -->\r\n      <g transform=\"translate(27.45925 146.96141)scale(0.14 -0.14)\">\r\n       <use xlink:href=\"#DejaVuSans-49\"/>\r\n       <use x=\"63.623047\" xlink:href=\"#DejaVuSans-50\"/>\r\n       <use x=\"127.246094\" xlink:href=\"#DejaVuSans-53\"/>\r\n       <use x=\"190.869141\" xlink:href=\"#DejaVuSans-48\"/>\r\n       <use x=\"254.492188\" xlink:href=\"#DejaVuSans-48\"/>\r\n       <use x=\"318.115234\" xlink:href=\"#DejaVuSans-48\"/>\r\n      </g>\r\n     </g>\r\n    </g>\r\n    <g id=\"ytick_7\">\r\n     <g id=\"line2d_15\">\r\n      <path clip-path=\"url(#pdb0524d9f8)\" d=\"M 84.40425 94.283315 \r\nL 460.24425 94.283315 \r\n\" style=\"fill:none;stroke:#cbcbcb;\"/>\r\n     </g>\r\n     <g id=\"line2d_16\"/>\r\n     <g id=\"text_10\">\r\n      <!-- 150000 -->\r\n      <g transform=\"translate(27.45925 99.602221)scale(0.14 -0.14)\">\r\n       <use xlink:href=\"#DejaVuSans-49\"/>\r\n       <use x=\"63.623047\" xlink:href=\"#DejaVuSans-53\"/>\r\n       <use x=\"127.246094\" xlink:href=\"#DejaVuSans-48\"/>\r\n       <use x=\"190.869141\" xlink:href=\"#DejaVuSans-48\"/>\r\n       <use x=\"254.492188\" xlink:href=\"#DejaVuSans-48\"/>\r\n       <use x=\"318.115234\" xlink:href=\"#DejaVuSans-48\"/>\r\n      </g>\r\n     </g>\r\n    </g>\r\n    <g id=\"ytick_8\">\r\n     <g id=\"line2d_17\">\r\n      <path clip-path=\"url(#pdb0524d9f8)\" d=\"M 84.40425 46.924125 \r\nL 460.24425 46.924125 \r\n\" style=\"fill:none;stroke:#cbcbcb;\"/>\r\n     </g>\r\n     <g id=\"line2d_18\"/>\r\n     <g id=\"text_11\">\r\n      <!-- 175000 -->\r\n      <g transform=\"translate(27.45925 52.243032)scale(0.14 -0.14)\">\r\n       <use xlink:href=\"#DejaVuSans-49\"/>\r\n       <use x=\"63.623047\" xlink:href=\"#DejaVuSans-55\"/>\r\n       <use x=\"127.246094\" xlink:href=\"#DejaVuSans-53\"/>\r\n       <use x=\"190.869141\" xlink:href=\"#DejaVuSans-48\"/>\r\n       <use x=\"254.492188\" xlink:href=\"#DejaVuSans-48\"/>\r\n       <use x=\"318.115234\" xlink:href=\"#DejaVuSans-48\"/>\r\n      </g>\r\n     </g>\r\n    </g>\r\n    <g id=\"text_12\">\r\n     <!-- count -->\r\n     <defs>\r\n      <path d=\"M 48.78125 52.59375 \r\nL 48.78125 44.1875 \r\nQ 44.96875 46.296875 41.140625 47.34375 \r\nQ 37.3125 48.390625 33.40625 48.390625 \r\nQ 24.65625 48.390625 19.8125 42.84375 \r\nQ 14.984375 37.3125 14.984375 27.296875 \r\nQ 14.984375 17.28125 19.8125 11.734375 \r\nQ 24.65625 6.203125 33.40625 6.203125 \r\nQ 37.3125 6.203125 41.140625 7.25 \r\nQ 44.96875 8.296875 48.78125 10.40625 \r\nL 48.78125 2.09375 \r\nQ 45.015625 0.34375 40.984375 -0.53125 \r\nQ 36.96875 -1.421875 32.421875 -1.421875 \r\nQ 20.0625 -1.421875 12.78125 6.34375 \r\nQ 5.515625 14.109375 5.515625 27.296875 \r\nQ 5.515625 40.671875 12.859375 48.328125 \r\nQ 20.21875 56 33.015625 56 \r\nQ 37.15625 56 41.109375 55.140625 \r\nQ 45.0625 54.296875 48.78125 52.59375 \r\nz\r\n\" id=\"DejaVuSans-99\"/>\r\n      <path d=\"M 30.609375 48.390625 \r\nQ 23.390625 48.390625 19.1875 42.75 \r\nQ 14.984375 37.109375 14.984375 27.296875 \r\nQ 14.984375 17.484375 19.15625 11.84375 \r\nQ 23.34375 6.203125 30.609375 6.203125 \r\nQ 37.796875 6.203125 41.984375 11.859375 \r\nQ 46.1875 17.53125 46.1875 27.296875 \r\nQ 46.1875 37.015625 41.984375 42.703125 \r\nQ 37.796875 48.390625 30.609375 48.390625 \r\nz\r\nM 30.609375 56 \r\nQ 42.328125 56 49.015625 48.375 \r\nQ 55.71875 40.765625 55.71875 27.296875 \r\nQ 55.71875 13.875 49.015625 6.21875 \r\nQ 42.328125 -1.421875 30.609375 -1.421875 \r\nQ 18.84375 -1.421875 12.171875 6.21875 \r\nQ 5.515625 13.875 5.515625 27.296875 \r\nQ 5.515625 40.765625 12.171875 48.375 \r\nQ 18.84375 56 30.609375 56 \r\nz\r\n\" id=\"DejaVuSans-111\"/>\r\n      <path d=\"M 8.5 21.578125 \r\nL 8.5 54.6875 \r\nL 17.484375 54.6875 \r\nL 17.484375 21.921875 \r\nQ 17.484375 14.15625 20.5 10.265625 \r\nQ 23.53125 6.390625 29.59375 6.390625 \r\nQ 36.859375 6.390625 41.078125 11.03125 \r\nQ 45.3125 15.671875 45.3125 23.6875 \r\nL 45.3125 54.6875 \r\nL 54.296875 54.6875 \r\nL 54.296875 0 \r\nL 45.3125 0 \r\nL 45.3125 8.40625 \r\nQ 42.046875 3.421875 37.71875 1 \r\nQ 33.40625 -1.421875 27.6875 -1.421875 \r\nQ 18.265625 -1.421875 13.375 4.4375 \r\nQ 8.5 10.296875 8.5 21.578125 \r\nz\r\nM 31.109375 56 \r\nz\r\n\" id=\"DejaVuSans-117\"/>\r\n      <path d=\"M 54.890625 33.015625 \r\nL 54.890625 0 \r\nL 45.90625 0 \r\nL 45.90625 32.71875 \r\nQ 45.90625 40.484375 42.875 44.328125 \r\nQ 39.84375 48.1875 33.796875 48.1875 \r\nQ 26.515625 48.1875 22.3125 43.546875 \r\nQ 18.109375 38.921875 18.109375 30.90625 \r\nL 18.109375 0 \r\nL 9.078125 0 \r\nL 9.078125 54.6875 \r\nL 18.109375 54.6875 \r\nL 18.109375 46.1875 \r\nQ 21.34375 51.125 25.703125 53.5625 \r\nQ 30.078125 56 35.796875 56 \r\nQ 45.21875 56 50.046875 50.171875 \r\nQ 54.890625 44.34375 54.890625 33.015625 \r\nz\r\n\" id=\"DejaVuSans-110\"/>\r\n      <path d=\"M 18.3125 70.21875 \r\nL 18.3125 54.6875 \r\nL 36.8125 54.6875 \r\nL 36.8125 47.703125 \r\nL 18.3125 47.703125 \r\nL 18.3125 18.015625 \r\nQ 18.3125 11.328125 20.140625 9.421875 \r\nQ 21.96875 7.515625 27.59375 7.515625 \r\nL 36.8125 7.515625 \r\nL 36.8125 0 \r\nL 27.59375 0 \r\nQ 17.1875 0 13.234375 3.875 \r\nQ 9.28125 7.765625 9.28125 18.015625 \r\nL 9.28125 47.703125 \r\nL 2.6875 47.703125 \r\nL 2.6875 54.6875 \r\nL 9.28125 54.6875 \r\nL 9.28125 70.21875 \r\nz\r\n\" id=\"DejaVuSans-116\"/>\r\n     </defs>\r\n     <g transform=\"translate(19.965375 227.17695)rotate(-90)scale(0.168 -0.168)\">\r\n      <use xlink:href=\"#DejaVuSans-99\"/>\r\n      <use x=\"54.980469\" xlink:href=\"#DejaVuSans-111\"/>\r\n      <use x=\"116.162109\" xlink:href=\"#DejaVuSans-117\"/>\r\n      <use x=\"179.541016\" xlink:href=\"#DejaVuSans-110\"/>\r\n      <use x=\"242.919922\" xlink:href=\"#DejaVuSans-116\"/>\r\n     </g>\r\n    </g>\r\n   </g>\r\n   <g id=\"patch_3\">\r\n    <path clip-path=\"url(#pdb0524d9f8)\" d=\"M 103.19625 378.43845 \r\nL 253.53225 378.43845 \r\nL 253.53225 45.181307 \r\nL 103.19625 45.181307 \r\nz\r\n\" style=\"fill:#b3cede;\"/>\r\n   </g>\r\n   <g id=\"patch_4\">\r\n    <path clip-path=\"url(#pdb0524d9f8)\" d=\"M 291.11625 378.43845 \r\nL 441.45225 378.43845 \r\nL 441.45225 228.73037 \r\nL 291.11625 228.73037 \r\nz\r\n\" style=\"fill:#4884af;\"/>\r\n   </g>\r\n   <g id=\"patch_5\">\r\n    <path d=\"M 84.40425 378.43845 \r\nL 84.40425 28.51845 \r\n\" style=\"fill:none;stroke:#f0f0f0;stroke-linecap:square;stroke-linejoin:miter;stroke-width:3;\"/>\r\n   </g>\r\n   <g id=\"patch_6\">\r\n    <path d=\"M 460.24425 378.43845 \r\nL 460.24425 28.51845 \r\n\" style=\"fill:none;stroke:#f0f0f0;stroke-linecap:square;stroke-linejoin:miter;stroke-width:3;\"/>\r\n   </g>\r\n   <g id=\"patch_7\">\r\n    <path d=\"M 84.40425 378.43845 \r\nL 460.24425 378.43845 \r\n\" style=\"fill:none;stroke:#f0f0f0;stroke-linecap:square;stroke-linejoin:miter;stroke-width:3;\"/>\r\n   </g>\r\n   <g id=\"patch_8\">\r\n    <path d=\"M 84.40425 28.51845 \r\nL 460.24425 28.51845 \r\n\" style=\"fill:none;stroke:#f0f0f0;stroke-linecap:square;stroke-linejoin:miter;stroke-width:3;\"/>\r\n   </g>\r\n   <g id=\"text_13\">\r\n    <!-- Classes da variável alvo -->\r\n    <defs>\r\n     <path d=\"M 9.421875 75.984375 \r\nL 18.40625 75.984375 \r\nL 18.40625 0 \r\nL 9.421875 0 \r\nz\r\n\" id=\"DejaVuSans-108\"/>\r\n     <path d=\"M 34.28125 27.484375 \r\nQ 23.390625 27.484375 19.1875 25 \r\nQ 14.984375 22.515625 14.984375 16.5 \r\nQ 14.984375 11.71875 18.140625 8.90625 \r\nQ 21.296875 6.109375 26.703125 6.109375 \r\nQ 34.1875 6.109375 38.703125 11.40625 \r\nQ 43.21875 16.703125 43.21875 25.484375 \r\nL 43.21875 27.484375 \r\nz\r\nM 52.203125 31.203125 \r\nL 52.203125 0 \r\nL 43.21875 0 \r\nL 43.21875 8.296875 \r\nQ 40.140625 3.328125 35.546875 0.953125 \r\nQ 30.953125 -1.421875 24.3125 -1.421875 \r\nQ 15.921875 -1.421875 10.953125 3.296875 \r\nQ 6 8.015625 6 15.921875 \r\nQ 6 25.140625 12.171875 29.828125 \r\nQ 18.359375 34.515625 30.609375 34.515625 \r\nL 43.21875 34.515625 \r\nL 43.21875 35.40625 \r\nQ 43.21875 41.609375 39.140625 45 \r\nQ 35.0625 48.390625 27.6875 48.390625 \r\nQ 23 48.390625 18.546875 47.265625 \r\nQ 14.109375 46.140625 10.015625 43.890625 \r\nL 10.015625 52.203125 \r\nQ 14.9375 54.109375 19.578125 55.046875 \r\nQ 24.21875 56 28.609375 56 \r\nQ 40.484375 56 46.34375 49.84375 \r\nQ 52.203125 43.703125 52.203125 31.203125 \r\nz\r\n\" id=\"DejaVuSans-97\"/>\r\n     <path d=\"M 44.28125 53.078125 \r\nL 44.28125 44.578125 \r\nQ 40.484375 46.53125 36.375 47.5 \r\nQ 32.28125 48.484375 27.875 48.484375 \r\nQ 21.1875 48.484375 17.84375 46.4375 \r\nQ 14.5 44.390625 14.5 40.28125 \r\nQ 14.5 37.15625 16.890625 35.375 \r\nQ 19.28125 33.59375 26.515625 31.984375 \r\nL 29.59375 31.296875 \r\nQ 39.15625 29.25 43.1875 25.515625 \r\nQ 47.21875 21.78125 47.21875 15.09375 \r\nQ 47.21875 7.46875 41.1875 3.015625 \r\nQ 35.15625 -1.421875 24.609375 -1.421875 \r\nQ 20.21875 -1.421875 15.453125 -0.5625 \r\nQ 10.6875 0.296875 5.421875 2 \r\nL 5.421875 11.28125 \r\nQ 10.40625 8.6875 15.234375 7.390625 \r\nQ 20.0625 6.109375 24.8125 6.109375 \r\nQ 31.15625 6.109375 34.5625 8.28125 \r\nQ 37.984375 10.453125 37.984375 14.40625 \r\nQ 37.984375 18.0625 35.515625 20.015625 \r\nQ 33.0625 21.96875 24.703125 23.78125 \r\nL 21.578125 24.515625 \r\nQ 13.234375 26.265625 9.515625 29.90625 \r\nQ 5.8125 33.546875 5.8125 39.890625 \r\nQ 5.8125 47.609375 11.28125 51.796875 \r\nQ 16.75 56 26.8125 56 \r\nQ 31.78125 56 36.171875 55.265625 \r\nQ 40.578125 54.546875 44.28125 53.078125 \r\nz\r\n\" id=\"DejaVuSans-115\"/>\r\n     <path d=\"M 56.203125 29.59375 \r\nL 56.203125 25.203125 \r\nL 14.890625 25.203125 \r\nQ 15.484375 15.921875 20.484375 11.0625 \r\nQ 25.484375 6.203125 34.421875 6.203125 \r\nQ 39.59375 6.203125 44.453125 7.46875 \r\nQ 49.3125 8.734375 54.109375 11.28125 \r\nL 54.109375 2.78125 \r\nQ 49.265625 0.734375 44.1875 -0.34375 \r\nQ 39.109375 -1.421875 33.890625 -1.421875 \r\nQ 20.796875 -1.421875 13.15625 6.1875 \r\nQ 5.515625 13.8125 5.515625 26.8125 \r\nQ 5.515625 40.234375 12.765625 48.109375 \r\nQ 20.015625 56 32.328125 56 \r\nQ 43.359375 56 49.78125 48.890625 \r\nQ 56.203125 41.796875 56.203125 29.59375 \r\nz\r\nM 47.21875 32.234375 \r\nQ 47.125 39.59375 43.09375 43.984375 \r\nQ 39.0625 48.390625 32.421875 48.390625 \r\nQ 24.90625 48.390625 20.390625 44.140625 \r\nQ 15.875 39.890625 15.1875 32.171875 \r\nz\r\n\" id=\"DejaVuSans-101\"/>\r\n     <path id=\"DejaVuSans-32\"/>\r\n     <path d=\"M 45.40625 46.390625 \r\nL 45.40625 75.984375 \r\nL 54.390625 75.984375 \r\nL 54.390625 0 \r\nL 45.40625 0 \r\nL 45.40625 8.203125 \r\nQ 42.578125 3.328125 38.25 0.953125 \r\nQ 33.9375 -1.421875 27.875 -1.421875 \r\nQ 17.96875 -1.421875 11.734375 6.484375 \r\nQ 5.515625 14.40625 5.515625 27.296875 \r\nQ 5.515625 40.1875 11.734375 48.09375 \r\nQ 17.96875 56 27.875 56 \r\nQ 33.9375 56 38.25 53.625 \r\nQ 42.578125 51.265625 45.40625 46.390625 \r\nz\r\nM 14.796875 27.296875 \r\nQ 14.796875 17.390625 18.875 11.75 \r\nQ 22.953125 6.109375 30.078125 6.109375 \r\nQ 37.203125 6.109375 41.296875 11.75 \r\nQ 45.40625 17.390625 45.40625 27.296875 \r\nQ 45.40625 37.203125 41.296875 42.84375 \r\nQ 37.203125 48.484375 30.078125 48.484375 \r\nQ 22.953125 48.484375 18.875 42.84375 \r\nQ 14.796875 37.203125 14.796875 27.296875 \r\nz\r\n\" id=\"DejaVuSans-100\"/>\r\n     <path d=\"M 2.984375 54.6875 \r\nL 12.5 54.6875 \r\nL 29.59375 8.796875 \r\nL 46.6875 54.6875 \r\nL 56.203125 54.6875 \r\nL 35.6875 0 \r\nL 23.484375 0 \r\nz\r\n\" id=\"DejaVuSans-118\"/>\r\n     <path d=\"M 41.109375 46.296875 \r\nQ 39.59375 47.171875 37.8125 47.578125 \r\nQ 36.03125 48 33.890625 48 \r\nQ 26.265625 48 22.1875 43.046875 \r\nQ 18.109375 38.09375 18.109375 28.8125 \r\nL 18.109375 0 \r\nL 9.078125 0 \r\nL 9.078125 54.6875 \r\nL 18.109375 54.6875 \r\nL 18.109375 46.1875 \r\nQ 20.953125 51.171875 25.484375 53.578125 \r\nQ 30.03125 56 36.53125 56 \r\nQ 37.453125 56 38.578125 55.875 \r\nQ 39.703125 55.765625 41.0625 55.515625 \r\nz\r\n\" id=\"DejaVuSans-114\"/>\r\n     <path d=\"M 9.421875 54.6875 \r\nL 18.40625 54.6875 \r\nL 18.40625 0 \r\nL 9.421875 0 \r\nz\r\nM 9.421875 75.984375 \r\nL 18.40625 75.984375 \r\nL 18.40625 64.59375 \r\nL 9.421875 64.59375 \r\nz\r\n\" id=\"DejaVuSans-105\"/>\r\n     <path d=\"M 34.28125 27.484375 \r\nQ 23.390625 27.484375 19.1875 25 \r\nQ 14.984375 22.515625 14.984375 16.5 \r\nQ 14.984375 11.71875 18.140625 8.90625 \r\nQ 21.296875 6.109375 26.703125 6.109375 \r\nQ 34.1875 6.109375 38.703125 11.40625 \r\nQ 43.21875 16.703125 43.21875 25.484375 \r\nL 43.21875 27.484375 \r\nz\r\nM 52.203125 31.203125 \r\nL 52.203125 0 \r\nL 43.21875 0 \r\nL 43.21875 8.296875 \r\nQ 40.140625 3.328125 35.546875 0.953125 \r\nQ 30.953125 -1.421875 24.3125 -1.421875 \r\nQ 15.921875 -1.421875 10.953125 3.296875 \r\nQ 6 8.015625 6 15.921875 \r\nQ 6 25.140625 12.171875 29.828125 \r\nQ 18.359375 34.515625 30.609375 34.515625 \r\nL 43.21875 34.515625 \r\nL 43.21875 35.40625 \r\nQ 43.21875 41.609375 39.140625 45 \r\nQ 35.0625 48.390625 27.6875 48.390625 \r\nQ 23 48.390625 18.546875 47.265625 \r\nQ 14.109375 46.140625 10.015625 43.890625 \r\nL 10.015625 52.203125 \r\nQ 14.9375 54.109375 19.578125 55.046875 \r\nQ 24.21875 56 28.609375 56 \r\nQ 40.484375 56 46.34375 49.84375 \r\nQ 52.203125 43.703125 52.203125 31.203125 \r\nz\r\nM 35.796875 79.984375 \r\nL 45.515625 79.984375 \r\nL 29.59375 61.625 \r\nL 22.125 61.625 \r\nz\r\n\" id=\"DejaVuSans-225\"/>\r\n    </defs>\r\n    <g transform=\"translate(150.820875 22.51845)scale(0.2016 -0.2016)\">\r\n     <use xlink:href=\"#DejaVuSans-67\"/>\r\n     <use x=\"69.824219\" xlink:href=\"#DejaVuSans-108\"/>\r\n     <use x=\"97.607422\" xlink:href=\"#DejaVuSans-97\"/>\r\n     <use x=\"158.886719\" xlink:href=\"#DejaVuSans-115\"/>\r\n     <use x=\"210.986328\" xlink:href=\"#DejaVuSans-115\"/>\r\n     <use x=\"263.085938\" xlink:href=\"#DejaVuSans-101\"/>\r\n     <use x=\"324.609375\" xlink:href=\"#DejaVuSans-115\"/>\r\n     <use x=\"376.708984\" xlink:href=\"#DejaVuSans-32\"/>\r\n     <use x=\"408.496094\" xlink:href=\"#DejaVuSans-100\"/>\r\n     <use x=\"471.972656\" xlink:href=\"#DejaVuSans-97\"/>\r\n     <use x=\"533.251953\" xlink:href=\"#DejaVuSans-32\"/>\r\n     <use x=\"565.039062\" xlink:href=\"#DejaVuSans-118\"/>\r\n     <use x=\"624.21875\" xlink:href=\"#DejaVuSans-97\"/>\r\n     <use x=\"685.498047\" xlink:href=\"#DejaVuSans-114\"/>\r\n     <use x=\"726.611328\" xlink:href=\"#DejaVuSans-105\"/>\r\n     <use x=\"754.394531\" xlink:href=\"#DejaVuSans-225\"/>\r\n     <use x=\"815.673828\" xlink:href=\"#DejaVuSans-118\"/>\r\n     <use x=\"874.853516\" xlink:href=\"#DejaVuSans-101\"/>\r\n     <use x=\"936.376953\" xlink:href=\"#DejaVuSans-108\"/>\r\n     <use x=\"964.160156\" xlink:href=\"#DejaVuSans-32\"/>\r\n     <use x=\"995.947266\" xlink:href=\"#DejaVuSans-97\"/>\r\n     <use x=\"1057.226562\" xlink:href=\"#DejaVuSans-108\"/>\r\n     <use x=\"1085.009766\" xlink:href=\"#DejaVuSans-118\"/>\r\n     <use x=\"1144.189453\" xlink:href=\"#DejaVuSans-111\"/>\r\n    </g>\r\n   </g>\r\n  </g>\r\n </g>\r\n <defs>\r\n  <clipPath id=\"pdb0524d9f8\">\r\n   <rect height=\"349.92\" width=\"375.84\" x=\"84.40425\" y=\"28.51845\"/>\r\n  </clipPath>\r\n </defs>\r\n</svg>\r\n",
      "image/png": "[encoded data removed]"
     },
     "metadata": {}
    }
   ],
   "source": [
    "#Verifica o balanceamento das classes da variável alvo.\n",
    "print(\"Total de casos: \",covid_df['OBT_COVID'].count()) \n",
    "plt.figure(figsize=(6,6))\n",
    "sns.countplot(covid_df['OBT_COVID'],palette='Blues')\n",
    "plt.title('Classes da variável alvo')\n",
    "plt.xlabel('OBT_COVID')\n",
    "covid_df['OBT_COVID'].value_counts()"
   ]
  },
  {
   "source": [
    "# Salva versão antes da transformação em variáveis binárias\n",
    "### Estes dados preprocessados serão usados para seleção de atributos, ajuste dos hiperparâmetros e construção dos modelos"
   ],
   "cell_type": "markdown",
   "metadata": {}
  },
  {
   "cell_type": "code",
   "execution_count": 34,
   "metadata": {},
   "outputs": [],
   "source": [
    "ext_file0 = \"_processed_pre_dummies.csv\"\n",
    "rad_filename = arquivo_base[:-4]  #exclui a extensão do arquivo\n",
    "filename_pre_dummies = rad_filename + ext_file0\n",
    "covid_df.to_csv(filename_pre_dummies,index = False,sep=';')"
   ]
  },
  {
   "cell_type": "code",
   "execution_count": null,
   "metadata": {},
   "outputs": [],
   "source": []
  }
 ],
 "metadata": {
  "kernelspec": {
   "name": "python383jvsc74a57bd09a855d225e8ebf7c4889a92d6065f44a3a657bc62a83a021168843adb770e43e",
   "display_name": "Python 3.8.3 64-bit (conda)"
  },
  "language_info": {
   "codemirror_mode": {
    "name": "ipython",
    "version": 3
   },
   "file_extension": ".py",
   "mimetype": "text/x-python",
   "name": "python",
   "nbconvert_exporter": "python",
   "pygments_lexer": "ipython3",
   "version": "3.8.3"
  }
 },
 "nbformat": 4,
 "nbformat_minor": 5
}